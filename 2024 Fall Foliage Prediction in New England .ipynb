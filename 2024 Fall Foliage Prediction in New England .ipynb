{
 "cells": [
  {
   "cell_type": "markdown",
   "id": "8c6a6fdb-f35d-401a-9ff4-0f18550092a5",
   "metadata": {},
   "source": [
    "# 2024 Fall Foliage Prediction in New England "
   ]
  },
  {
   "cell_type": "code",
   "execution_count": 33,
   "id": "b9e08c28-d340-42ae-a443-3dd728d3cf9f",
   "metadata": {},
   "outputs": [],
   "source": [
    "import streamlit as st\n",
    "import folium\n",
    "from streamlit_folium import st_folium\n",
    "import geopandas as gpd\n",
    "\n",
    "# Title of the app\n",
    "st.title(\"New England Fall Foliage Prediction Map\")\n",
    "\n",
    "# Corrected path to shapefile\n",
    "path = r'C:\\Users\\MahuaNitin.Hiray001\\Documents\\Python Scripts\\newengland\\NEWENGLAND_POLY.shp'  # Using raw string for Windows path\n",
    "gdf = gpd.read_file(path)\n",
    "\n",
    "# Create a Folium map centered on New England \n",
    "map_center = [43.9654, -71.5348]  # Approximate center of New England\n",
    "m = folium.Map(location=map_center, zoom_start=7)\n",
    "\n",
    "# Define color categories for foliage stages\n",
    "colors = {\n",
    "    \"early\": \"green\",\n",
    "    \"mid\": \"yellow\",\n",
    "    \"peak\": \"orange\",\n",
    "    \"late\": \"red\",\n",
    "    \"past_peak\": \"grey\"\n",
    "}\n",
    "\n",
    "# Function to assign color based on selected date\n",
    "def get_color_by_date(date):\n",
    "    if date < 30:\n",
    "        return colors[\"early\"]\n",
    "    elif 30 <= date < 60:\n",
    "        return colors[\"mid\"]\n",
    "    elif 60 <= date < 90:\n",
    "        return colors[\"peak\"]\n",
    "    elif 90 <= date < 100:\n",
    "        return colors[\"late\"]\n",
    "    else:\n",
    "        return colors[\"past_peak\"]\n",
    "\n",
    "# Date slider for foliage prediction\n",
    "st.subheader(\"Select Date to View Foliage Prediction\")\n",
    "selected_date = st.slider(\"Date\", min_value=1, max_value=100, value=50)\n",
    "\n",
    "# Add the GeoDataFrame (gdf) to the map and color each region based on the selected date\n",
    "for _, row in gdf.iterrows():\n",
    "    region_color = get_color_by_date(selected_date)\n",
    "    folium.GeoJson(\n",
    "        row['geometry'],\n",
    "        style_function=lambda x, color=region_color: {\n",
    "            'fillColor': color,\n",
    "            'color': 'black',\n",
    "            'weight': 1,\n",
    "            'fillOpacity': 0.7\n",
    "        },\n",
    "        tooltip=row['NAME']  # Assuming 'NAME' is the column that contains region names\n",
    "    ).add_to(m)\n",
    "\n",
    "# Display the map\n",
    "st_folium(m, width=725)\n",
    "\n",
    "# Show selected date\n",
    "st.write(f\"Foliage prediction for date: {selected_date}\")"
   ]
  },
  {
   "cell_type": "code",
   "execution_count": 35,
   "id": "b2beca93-f77a-41cf-8f07-c48cae7bb21f",
   "metadata": {},
   "outputs": [],
   "source": [
    "# Print the GeoDataFrame to ensure it's loaded correctly\n",
    "st.write(gdf)"
   ]
  },
  {
   "cell_type": "code",
   "execution_count": null,
   "id": "066138fd-2516-466d-85fc-558ad586dabb",
   "metadata": {},
   "outputs": [],
   "source": []
  }
 ],
 "metadata": {
  "kernelspec": {
   "display_name": "Python 3 (ipykernel)",
   "language": "python",
   "name": "python3"
  },
  "language_info": {
   "codemirror_mode": {
    "name": "ipython",
    "version": 3
   },
   "file_extension": ".py",
   "mimetype": "text/x-python",
   "name": "python",
   "nbconvert_exporter": "python",
   "pygments_lexer": "ipython3",
   "version": "3.12.4"
  }
 },
 "nbformat": 4,
 "nbformat_minor": 5
}
